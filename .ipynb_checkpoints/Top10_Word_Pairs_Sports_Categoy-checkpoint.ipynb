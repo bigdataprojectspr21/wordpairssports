{
 "cells": [
  {
   "cell_type": "code",
   "execution_count": 51,
   "id": "theoretical-swiss",
   "metadata": {},
   "outputs": [],
   "source": [
    "#importing required libraries and staring spark\n",
    "import operator\n",
    "import os\n",
    "import numpy as np\n",
    "import pandas as pd\n",
    "import matplotlib.pyplot as plt\n",
    "import nltk\n",
    "from os import path\n",
    "from PIL import Image\n",
    "from wordcloud import WordCloud, STOPWORDS, ImageColorGenerator\n",
    "from nltk.corpus import stopwords \n",
    "from collections import Counter\n",
    "import matplotlib.pyplot as plt\n",
    "import pandas as pd\n",
    "from pyspark import SparkContext, SparkConf\n",
    "os.environ[\"PYSPARK_PYTHON\"] = \"/Library/Frameworks/Python.framework/Versions/3.7/bin/python3\"\n",
    "os.environ[\"PYSPARK_DRIVER_PYTHON\"] = \"/Library/Frameworks/Python.framework/Versions/3.7/bin/python3\"\n",
    "sc = SparkContext(\"local\",\"PySpark\")\n",
    "contentRDD = sc.textFile(\"/Users/teja/Downloads/nytimes_news_articles.txt\")"
   ]
  },
  {
   "cell_type": "code",
   "execution_count": 52,
   "id": "visible-passage",
   "metadata": {},
   "outputs": [],
   "source": [
    "#preprocessing data \n",
    "contentRDD = contentRDD.filter(lambda x: len(x) > 0)\n",
    "content = contentRDD.collect() # data is stored in a list\n",
    "l = len(content)\n",
    "for i in range(l):#removing unwanted symbols in strings\n",
    "    if not content[i].startswith('URL'):\n",
    "        content[i] = content[i].replace(\"-\", \"\").replace(\"—\",\"\").replace(\"“\",\"\").replace(\",\",\"\").replace(\"’\",\"\").replace(\"'\",\"\").replace(\"”\",\"\").replace(\";\",\"\").replace(\":\",\"\").replace(\"(\",\"\").replace(\")\",\"\").replace(\"‘\",\"\")\n",
    "        if content[i].endswith(\".\"):\n",
    "            content[i] = content[i].replace(\".\",\"\")"
   ]
  },
  {
   "cell_type": "code",
   "execution_count": 53,
   "id": "front-cement",
   "metadata": {},
   "outputs": [],
   "source": [
    "#get data for sports category \n",
    "def get_sports_data(content):#collecting only sports related data from full text\n",
    "    sports_category_data = []\n",
    "    url = \"\"\n",
    "    for row in content:\n",
    "        if row.startswith(\"URL\"):\n",
    "            url = row\n",
    "        elif \"sports\" in url:\n",
    "            sports_category_data.append(row)\n",
    "    return sports_category_data"
   ]
  },
  {
   "cell_type": "code",
   "execution_count": 54,
   "id": "quiet-button",
   "metadata": {},
   "outputs": [],
   "source": [
    "sports_data = get_sports_data(content)   #sports data"
   ]
  },
  {
   "cell_type": "code",
   "execution_count": 7,
   "id": "difficult-fourth",
   "metadata": {},
   "outputs": [],
   "source": [
    "#split the each paragrapgh in sports_data\n",
    "#ignore empty strings and removing stopwords and removing whitespaces in a string using strip function\n",
    "def preprocess_sports_data(sports_data):\n",
    "    sports_data_after_split = [i.split(\" \") for i in sports_data]\n",
    "    sw = stopwords.words('english')#stopwords using nltk\n",
    "    sports_data_without_stopwords = []\n",
    "    for lst in sports_data_after_split:\n",
    "        new_lst = []\n",
    "        for wrd in lst:\n",
    "            wrd_lower = wrd.strip().lower()\n",
    "            if (len(wrd) > 0) and (wrd_lower not in sw):\n",
    "                new_lst.append(wrd_lower)\n",
    "\n",
    "        sports_data_without_stopwords.append(new_lst)\n",
    "    return sports_data_without_stopwords"
   ]
  },
  {
   "cell_type": "code",
   "execution_count": 8,
   "id": "little-source",
   "metadata": {},
   "outputs": [],
   "source": [
    "processes_sports_data = preprocess_sports_data(sports_data)#processed data of sports category"
   ]
  },
  {
   "cell_type": "code",
   "execution_count": null,
   "id": "indian-thesis",
   "metadata": {},
   "outputs": [],
   "source": [
    "wordspairs = {}\n",
    "for par in range(len(processes_sports_data)):\n",
    "    for wrd in range(len(processes_sports_data[par])-1):\n",
    "        biagram = processes_sports_data[par][wrd] + \" \" + processes_sports_data[par][wrd+1]\n",
    "        if biagram not in wordspairs:\n",
    "            wordspairs[biagram] = 1\n",
    "        else:\n",
    "            wordspairs[biagram] += 1"
   ]
  },
  {
   "cell_type": "code",
   "execution_count": 12,
   "id": "sitting-actress",
   "metadata": {},
   "outputs": [
    {
     "data": {
      "text/plain": [
       "{'united states': 685,\n",
       " 'last year': 423,\n",
       " 'first time': 323,\n",
       " 'new york': 307,\n",
       " 'last season': 303,\n",
       " 'los angeles': 274,\n",
       " 'world cup': 272,\n",
       " 'home run': 255,\n",
       " 'years ago': 244,\n",
       " 'major league': 243}"
      ]
     },
     "execution_count": 12,
     "metadata": {},
     "output_type": "execute_result"
    }
   ],
   "source": [
    "#top 10 word pairs\n",
    "k = Counter(wordspairs) \n",
    "# Finding top10 word pairs \n",
    "top10_wordpairs = k.most_common(10)\n",
    "word_pairs = dict(top10_wordpairs)\n",
    "word_pairs"
   ]
  },
  {
   "cell_type": "code",
   "execution_count": 47,
   "id": "gorgeous-thing",
   "metadata": {},
   "outputs": [
    {
     "data": {
      "image/png": "[encoded data removed]",
      "text/plain": [
       "<Figure size 1440x576 with 1 Axes>"
      ]
     },
     "metadata": {
      "needs_background": "light"
     },
     "output_type": "display_data"
    }
   ],
   "source": [
    "#visualizing the top 10 word_pairs graphically\n",
    "plt.figure(figsize=(20, 8))\n",
    "plt.bar(list(word_pairs.keys()), list(word_pairs.values()))\n",
    "plt.xlabel(\"Word Pairs\")\n",
    "plt.ylabel(\"Count\")\n",
    "plt.title(\"Top 10 word pairs in Sports cartegory\")\n",
    "plt.show()"
   ]
  },
  {
   "cell_type": "code",
   "execution_count": 50,
   "id": "conservative-spanish",
   "metadata": {},
   "outputs": [],
   "source": [
    "sc.stop()"
   ]
  },
  {
   "cell_type": "code",
   "execution_count": null,
   "id": "prepared-concert",
   "metadata": {},
   "outputs": [],
   "source": []
  },
  {
   "cell_type": "code",
   "execution_count": null,
   "id": "hundred-surrey",
   "metadata": {},
   "outputs": [],
   "source": []
  },
  {
   "cell_type": "code",
   "execution_count": null,
   "id": "worldwide-metropolitan",
   "metadata": {},
   "outputs": [],
   "source": []
  }
 ],
 "metadata": {
  "kernelspec": {
   "display_name": "Python 3",
   "language": "python",
   "name": "python3"
  },
  "language_info": {
   "codemirror_mode": {
    "name": "ipython",
    "version": 3
   },
   "file_extension": ".py",
   "mimetype": "text/x-python",
   "name": "python",
   "nbconvert_exporter": "python",
   "pygments_lexer": "ipython3",
   "version": "3.9.1"
  }
 },
 "nbformat": 4,
 "nbformat_minor": 5
}
